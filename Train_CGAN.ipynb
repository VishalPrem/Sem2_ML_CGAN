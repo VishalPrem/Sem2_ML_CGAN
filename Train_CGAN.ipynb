{
 "cells": [
  {
   "cell_type": "code",
   "execution_count": 1,
   "metadata": {},
   "outputs": [],
   "source": [
    "\n",
    "import os\n",
    "import numpy as np\n",
    "import math\n",
    "\n",
    "import torchvision.transforms as transforms\n",
    "from torchvision.utils import save_image,make_grid\n",
    "\n",
    "from torch.utils.data import DataLoader\n",
    "from torchvision import datasets\n",
    "from torch.autograd import Variable\n",
    "\n",
    "import torch.nn as nn\n",
    "import torch.nn.functional as F\n",
    "import torch\n",
    "import matplotlib.pyplot as plt\n",
    "import numpy as np\n",
    "import random\n",
    "%matplotlib inline\n",
    "def show(img):\n",
    "    npimg = img.cpu().numpy()\n",
    "    plt.imshow(np.transpose(npimg, (1,2,0)), interpolation='nearest')\n"
   ]
  },
  {
   "cell_type": "code",
   "execution_count": 2,
   "metadata": {},
   "outputs": [],
   "source": [
    "os.makedirs('images', exist_ok=True)\n",
    "\n",
    "\n",
    "n_epochs=200\n",
    "batch_size=64\n",
    "lr=0.0002\n",
    "b1=0.5\n",
    "b2=0.999\n",
    "n_cpu=8\n",
    "latent_dim=100\n",
    "n_classes=10\n",
    "img_size=32\n",
    "channels=1\n",
    "sample_interval=10000\n",
    "\n",
    "img_shape = (channels, img_size, img_size)\n",
    "\n",
    "cuda = True if torch.cuda.is_available() else False"
   ]
  },
  {
   "cell_type": "code",
   "execution_count": 3,
   "metadata": {},
   "outputs": [],
   "source": [
    "class Generator(nn.Module):\n",
    "    def __init__(self):\n",
    "        super(Generator, self).__init__()\n",
    "\n",
    "        self.label_emb = nn.Embedding(n_classes, n_classes)\n",
    "\n",
    "        def block(in_feat, out_feat, normalize=True):\n",
    "            layers = [  nn.Linear(in_feat, out_feat)]\n",
    "            if normalize:\n",
    "                layers.append(nn.BatchNorm1d(out_feat, 0.8))\n",
    "            layers.append(nn.LeakyReLU(0.2, inplace=True))\n",
    "            return layers\n",
    "\n",
    "        self.model = nn.Sequential(\n",
    "            *block(latent_dim+n_classes, 128, normalize=False),\n",
    "            *block(128, 256),\n",
    "            *block(256, 512),\n",
    "            *block(512, 1024),\n",
    "            nn.Linear(1024, int(np.prod(img_shape))),\n",
    "            nn.Tanh()\n",
    "        )\n",
    "\n",
    "    def forward(self, noise, labels):\n",
    "        # Concatenate label embedding and image to produce input\n",
    "        gen_input = torch.cat((self.label_emb(labels), noise), -1)\n",
    "        img = self.model(gen_input)\n",
    "        img = img.view(img.size(0), *img_shape)\n",
    "        return img"
   ]
  },
  {
   "cell_type": "code",
   "execution_count": 4,
   "metadata": {},
   "outputs": [],
   "source": [
    "class Discriminator(nn.Module):\n",
    "    def __init__(self):\n",
    "        super(Discriminator, self).__init__()\n",
    "\n",
    "        self.label_embedding = nn.Embedding(n_classes, n_classes)\n",
    "\n",
    "        self.model = nn.Sequential(\n",
    "            nn.Linear(n_classes + int(np.prod(img_shape)), 512),\n",
    "            nn.LeakyReLU(0.2, inplace=True),\n",
    "            nn.Linear(512, 512),\n",
    "            nn.Dropout(0.4),\n",
    "            nn.LeakyReLU(0.2, inplace=True),\n",
    "            nn.Linear(512, 512),\n",
    "            nn.Dropout(0.4),\n",
    "            nn.LeakyReLU(0.2, inplace=True),\n",
    "            nn.Linear(512, 1)\n",
    "        )\n",
    "\n",
    "    def forward(self, img, labels):\n",
    "        # Concatenate label embedding and image to produce input\n",
    "        d_in = torch.cat((img.view(img.size(0), -1), self.label_embedding(labels)), -1)\n",
    "        validity = self.model(d_in)\n",
    "        return validity"
   ]
  },
  {
   "cell_type": "code",
   "execution_count": 5,
   "metadata": {},
   "outputs": [],
   "source": [
    "adversarial_loss = torch.nn.MSELoss()\n",
    "auxiliary_loss = torch.nn.CrossEntropyLoss()"
   ]
  },
  {
   "cell_type": "code",
   "execution_count": 6,
   "metadata": {},
   "outputs": [],
   "source": [
    "generator = Generator()\n",
    "discriminator = Discriminator()"
   ]
  },
  {
   "cell_type": "code",
   "execution_count": 7,
   "metadata": {},
   "outputs": [],
   "source": [
    "if cuda:\n",
    "    generator.cuda()\n",
    "    discriminator.cuda()\n",
    "    adversarial_loss.cuda()\n",
    "    auxiliary_loss.cuda()"
   ]
  },
  {
   "cell_type": "code",
   "execution_count": 8,
   "metadata": {},
   "outputs": [],
   "source": [
    "os.makedirs('data/mnist', exist_ok=True)\n",
    "dataloader = torch.utils.data.DataLoader(\n",
    "    datasets.MNIST('../../data/mnist', train=True, download=True,\n",
    "                   transform=transforms.Compose([\n",
    "                        transforms.Resize(img_size),\n",
    "                        transforms.ToTensor(),\n",
    "                        transforms.Normalize((0.5, 0.5, 0.5), (0.5, 0.5, 0.5))\n",
    "                   ])),\n",
    "    batch_size=batch_size, shuffle=True)"
   ]
  },
  {
   "cell_type": "code",
   "execution_count": 9,
   "metadata": {},
   "outputs": [],
   "source": [
    "optimizer_G = torch.optim.Adam(generator.parameters(), lr=lr, betas=(b1, b2))\n",
    "optimizer_D = torch.optim.Adam(discriminator.parameters(), lr=lr, betas=(b1, b2))\n",
    "\n",
    "FloatTensor = torch.cuda.FloatTensor if cuda else torch.FloatTensor\n",
    "LongTensor = torch.cuda.LongTensor if cuda else torch.LongTensor"
   ]
  },
  {
   "cell_type": "code",
   "execution_count": 10,
   "metadata": {},
   "outputs": [],
   "source": [
    "def sample_image( n_row,batches_done):\n",
    "    z = Variable(FloatTensor(np.random.normal(0, 1, (n_row**2, latent_dim))))\n",
    "    labels = np.array([num for _ in range(n_row) for num in range(n_row)])\n",
    "    labels = Variable(LongTensor(labels))\n",
    "    gen_imgs = generator(z, labels)\n",
    "    npimg = gen_imgs.data[0].cpu().numpy()\n",
    "    print(npimg[0])\n",
    "    plt.imshow(npimg[0], interpolation='nearest')\n",
    "    plt.show()"
   ]
  },
  {
   "cell_type": "code",
   "execution_count": 11,
   "metadata": {},
   "outputs": [
    {
     "name": "stdout",
     "output_type": "stream",
     "text": [
      "[Epoch 0/200] [Batch 0/938] [D loss: 0.522357] [G loss: 1.066247]\n"
     ]
    },
    {
     "name": "stderr",
     "output_type": "stream",
     "text": [
      "c:\\program files\\python36\\lib\\site-packages\\torch\\serialization.py:241: UserWarning: Couldn't retrieve source code for container of type Generator. It won't be checked for correctness upon loading.\n",
      "  \"type \" + obj.__name__ + \". It won't be checked \"\n"
     ]
    },
    {
     "name": "stdout",
     "output_type": "stream",
     "text": [
      "[[ 0.01327163 -0.02203317  0.01573314 ... -0.00923117  0.02496372\n",
      "  -0.02332876]\n",
      " [-0.00827897 -0.02971535 -0.01047358 ...  0.02598744  0.00168253\n",
      "  -0.01960898]\n",
      " [ 0.00823435  0.01685358 -0.02631477 ... -0.01318861  0.00183034\n",
      "   0.01152145]\n",
      " ...\n",
      " [-0.00172857 -0.01823352 -0.0191024  ...  0.0271159  -0.02421811\n",
      "   0.000638  ]\n",
      " [ 0.01251565 -0.00346051 -0.02650162 ... -0.00315937  0.01095702\n",
      "  -0.03230277]\n",
      " [ 0.02075887 -0.0013133  -0.01487424 ... -0.01019926  0.00227038\n",
      "   0.02486275]]\n"
     ]
    },
    {
     "data": {
      "image/png": "[encoded data removed]",
      "text/plain": [
       "<Figure size 432x288 with 1 Axes>"
      ]
     },
     "metadata": {},
     "output_type": "display_data"
    },
    {
     "name": "stdout",
     "output_type": "stream",
     "text": [
      "[Epoch 10/200] [Batch 620/938] [D loss: 0.155103] [G loss: 0.449606]\n",
      "[[-0.99971294 -0.99999785 -0.9999848  ... -0.9999996  -1.\n",
      "  -0.9999726 ]\n",
      " [-0.99999994 -0.9999997  -1.         ... -0.999984   -0.99999857\n",
      "  -0.9999981 ]\n",
      " [-0.9999936  -0.9999995  -1.         ... -1.         -0.9997807\n",
      "  -1.        ]\n",
      " ...\n",
      " [-0.999993   -1.         -0.99968946 ... -0.99994475 -0.9999299\n",
      "  -0.9997708 ]\n",
      " [-0.99998546 -0.9985321  -0.99997693 ... -1.         -0.9999989\n",
      "  -0.9969445 ]\n",
      " [-0.9999775  -0.999927   -0.99999994 ... -0.99997467 -0.9999981\n",
      "  -0.9999991 ]]\n"
     ]
    },
    {
     "data": {
      "image/png": "[encoded data removed]",
      "text/plain": [
       "<Figure size 432x288 with 1 Axes>"
      ]
     },
     "metadata": {},
     "output_type": "display_data"
    },
    {
     "name": "stdout",
     "output_type": "stream",
     "text": [
      "[Epoch 21/200] [Batch 302/938] [D loss: 0.222723] [G loss: 0.376962]\n",
      "[[-1.         -0.99999994 -0.9999996  ... -0.99999994 -0.9998459\n",
      "  -0.9997223 ]\n",
      " [-0.9999487  -0.9999856  -0.99999416 ... -0.99999326 -0.9999982\n",
      "  -1.        ]\n",
      " [-1.         -0.9999956  -0.99965334 ... -0.99999964 -0.99997586\n",
      "  -0.99999636]\n",
      " ...\n",
      " [-0.9999941  -0.99999934 -0.99999547 ... -0.9999993  -1.\n",
      "  -1.        ]\n",
      " [-0.99999994 -0.9999963  -1.         ... -0.9999995  -0.99999803\n",
      "  -1.        ]\n",
      " [-0.9999998  -0.9999953  -1.         ... -0.99999994 -0.99999976\n",
      "  -0.99999774]]\n"
     ]
    },
    {
     "data": {
      "image/png": "[encoded data removed]",
      "text/plain": [
       "<Figure size 432x288 with 1 Axes>"
      ]
     },
     "metadata": {},
     "output_type": "display_data"
    },
    {
     "name": "stdout",
     "output_type": "stream",
     "text": [
      "[Epoch 31/200] [Batch 922/938] [D loss: 0.222230] [G loss: 0.332522]\n",
      "[[-1.         -1.         -0.99999595 ... -0.99999994 -0.99999905\n",
      "  -0.9999712 ]\n",
      " [-1.         -0.9999996  -1.         ... -1.         -0.99999994\n",
      "  -0.9999972 ]\n",
      " [-0.99999756 -0.99997526 -1.         ... -1.         -0.999951\n",
      "  -0.99999994]\n",
      " ...\n",
      " [-0.99999624 -0.99999756 -0.99999964 ... -0.9999997  -0.99999976\n",
      "  -1.        ]\n",
      " [-0.99999505 -1.         -0.99999994 ... -1.         -1.\n",
      "  -0.9999998 ]\n",
      " [-0.9999034  -0.99999994 -1.         ... -0.9999997  -0.9999998\n",
      "  -0.9999994 ]]\n"
     ]
    },
    {
     "data": {
      "image/png": "[encoded data removed]",
      "text/plain": [
       "<Figure size 432x288 with 1 Axes>"
      ]
     },
     "metadata": {},
     "output_type": "display_data"
    },
    {
     "name": "stdout",
     "output_type": "stream",
     "text": [
      "[Epoch 42/200] [Batch 604/938] [D loss: 0.232477] [G loss: 0.252160]\n",
      "[[-0.9999797  -1.         -0.9999995  ... -1.         -0.9999828\n",
      "  -0.9999993 ]\n",
      " [-1.         -0.99999887 -1.         ... -0.9999996  -1.\n",
      "  -0.9999654 ]\n",
      " [-0.99999994 -1.         -0.99999994 ... -1.         -1.\n",
      "  -1.        ]\n",
      " ...\n",
      " [-1.         -0.9999999  -1.         ... -0.99999696 -1.\n",
      "  -0.99999994]\n",
      " [-0.9999996  -0.99999964 -0.99999684 ... -1.         -0.9999998\n",
      "  -0.9999972 ]\n",
      " [-1.         -0.9999988  -1.         ... -0.99999994 -1.\n",
      "  -1.        ]]\n"
     ]
    },
    {
     "data": {
      "image/png": "[encoded data removed]",
      "text/plain": [
       "<Figure size 432x288 with 1 Axes>"
      ]
     },
     "metadata": {},
     "output_type": "display_data"
    },
    {
     "name": "stdout",
     "output_type": "stream",
     "text": [
      "[Epoch 53/200] [Batch 286/938] [D loss: 0.219346] [G loss: 0.330595]\n",
      "[[-0.9998324  -0.999932   -0.99999386 ... -0.99998313 -0.99993664\n",
      "  -0.9873328 ]\n",
      " [-0.99998635 -0.9999993  -1.         ... -0.99999994 -0.9994771\n",
      "  -0.9990936 ]\n",
      " [-0.99959034 -0.99999976 -0.99999636 ... -0.9979901  -0.9999989\n",
      "  -0.9999498 ]\n",
      " ...\n",
      " [-0.9999992  -0.99999624 -0.9999637  ... -0.9992877  -0.99998176\n",
      "  -0.99999976]\n",
      " [-0.99998844 -0.9998742  -0.99998844 ... -0.99999946 -0.9984276\n",
      "  -0.99997437]\n",
      " [-0.9999619  -0.9965976  -0.9999987  ... -0.9999985  -0.99945027\n",
      "  -0.99999994]]\n"
     ]
    },
    {
     "data": {
      "image/png": "[encoded data removed]",
      "text/plain": [
       "<Figure size 432x288 with 1 Axes>"
      ]
     },
     "metadata": {},
     "output_type": "display_data"
    },
    {
     "name": "stdout",
     "output_type": "stream",
     "text": [
      "[Epoch 63/200] [Batch 906/938] [D loss: 0.213521] [G loss: 0.217879]\n",
      "[[-0.999642   -0.9999971  -0.9999965  ... -0.99980086 -0.99986947\n",
      "  -0.99501884]\n",
      " [-0.9998966  -0.999986   -0.99999845 ... -0.99999917 -0.9995957\n",
      "  -0.99988925]\n",
      " [-0.99997693 -0.99999946 -0.9999995  ... -0.9990881  -0.99997795\n",
      "  -0.9999684 ]\n",
      " ...\n",
      " [-0.99965864 -0.99998987 -0.9989067  ... -0.99998283 -0.99887866\n",
      "  -0.9999938 ]\n",
      " [-0.9999248  -0.9999964  -0.9955941  ... -0.99939656 -0.9999983\n",
      "  -0.99936295]\n",
      " [-0.99998385 -0.99916375 -0.999981   ... -0.99976915 -0.9996244\n",
      "  -0.99999464]]\n"
     ]
    },
    {
     "data": {
      "image/png": "[encoded data removed]",
      "text/plain": [
       "<Figure size 432x288 with 1 Axes>"
      ]
     },
     "metadata": {},
     "output_type": "display_data"
    },
    {
     "name": "stdout",
     "output_type": "stream",
     "text": [
      "[Epoch 74/200] [Batch 588/938] [D loss: 0.161946] [G loss: 0.385216]\n",
      "[[-0.99999934 -0.99998736 -0.9999888  ... -0.9962923  -0.9963387\n",
      "  -0.99968016]\n",
      " [-0.99962515 -0.99984497 -0.9998924  ... -0.99987787 -0.9952173\n",
      "  -0.9999343 ]\n",
      " [-0.9995194  -0.9999423  -0.9999968  ... -0.9999486  -0.9997892\n",
      "  -0.9999788 ]\n",
      " ...\n",
      " [-0.9999487  -0.99996287 -0.99999416 ... -0.99981946 -0.9994821\n",
      "  -0.9985214 ]\n",
      " [-0.9998951  -0.9995416  -0.99818367 ... -0.9997059  -0.9898852\n",
      "  -0.9999706 ]\n",
      " [-0.99999404 -0.99984896 -0.99883425 ... -0.9991124  -0.9999286\n",
      "  -0.999974  ]]\n"
     ]
    },
    {
     "data": {
      "image/png": "[encoded data removed]",
      "text/plain": [
       "<Figure size 432x288 with 1 Axes>"
      ]
     },
     "metadata": {},
     "output_type": "display_data"
    },
    {
     "name": "stdout",
     "output_type": "stream",
     "text": [
      "[Epoch 85/200] [Batch 270/938] [D loss: 0.131228] [G loss: 0.524418]\n",
      "[[-0.99998546 -0.9999998  -0.99999887 ... -0.99999774 -0.99998903\n",
      "  -0.99999964]\n",
      " [-0.99999046 -0.99999064 -0.9999999  ... -0.9999812  -0.9999833\n",
      "  -0.9999689 ]\n",
      " [-0.9999989  -0.9999978  -0.99999976 ... -0.99999976 -1.\n",
      "  -0.99999994]\n",
      " ...\n",
      " [-0.9999987  -0.9999997  -0.9999995  ... -0.9999813  -0.99999946\n",
      "  -0.9999986 ]\n",
      " [-0.99999976 -0.99999833 -0.99999946 ... -0.99995124 -0.99999845\n",
      "  -0.9999979 ]\n",
      " [-0.9999987  -0.99999946 -0.99999565 ... -0.99999994 -0.9999991\n",
      "  -0.9999947 ]]\n"
     ]
    },
    {
     "data": {
      "image/png": "[encoded data removed]",
      "text/plain": [
       "<Figure size 432x288 with 1 Axes>"
      ]
     },
     "metadata": {},
     "output_type": "display_data"
    },
    {
     "name": "stdout",
     "output_type": "stream",
     "text": [
      "[Epoch 95/200] [Batch 890/938] [D loss: 0.133038] [G loss: 0.640880]\n",
      "[[-0.9999999  -0.99996096 -0.99997586 ... -0.99999076 -0.99999875\n",
      "  -0.99964464]\n",
      " [-0.99999726 -0.99991816 -0.9999842  ... -0.99938285 -0.99873793\n",
      "  -0.99998313]\n",
      " [-0.9999999  -0.9999786  -0.99999565 ... -0.99997956 -0.99978805\n",
      "  -0.9999909 ]\n",
      " ...\n",
      " [-0.9999486  -0.99999654 -0.9999963  ... -0.999981   -0.9997808\n",
      "  -0.9994385 ]\n",
      " [-0.99974245 -0.9990781  -0.9999904  ... -0.9999807  -0.99814445\n",
      "  -0.9988479 ]\n",
      " [-0.9999694  -0.99943525 -0.9999613  ... -0.99944854 -0.9999884\n",
      "  -0.99996215]]\n"
     ]
    },
    {
     "data": {
      "image/png": "[encoded data removed]",
      "text/plain": [
       "<Figure size 432x288 with 1 Axes>"
      ]
     },
     "metadata": {},
     "output_type": "display_data"
    },
    {
     "name": "stdout",
     "output_type": "stream",
     "text": [
      "[Epoch 106/200] [Batch 572/938] [D loss: 0.112595] [G loss: 0.613837]\n",
      "[[-0.99960923 -0.9998573  -0.999776   ... -0.9971102  -0.9999547\n",
      "  -0.9982846 ]\n",
      " [-0.9999511  -0.99971604 -0.99962115 ... -0.9997549  -0.99746466\n",
      "  -0.99832934]\n",
      " [-0.99996614 -0.99897873 -0.9997492  ... -0.99971586 -0.9969927\n",
      "  -0.9998217 ]\n",
      " ...\n",
      " [-0.9995811  -0.9999471  -0.99251306 ... -0.9983017  -0.9994912\n",
      "  -0.9993909 ]\n",
      " [-0.9865136  -0.9995986  -0.9995093  ... -0.99894994 -0.9957115\n",
      "  -0.99967444]\n",
      " [-0.9976319  -0.99857223 -0.9999005  ... -0.99917763 -0.9991223\n",
      "  -0.9991042 ]]\n"
     ]
    },
    {
     "data": {
      "image/png": "[encoded data removed]",
      "text/plain": [
       "<Figure size 432x288 with 1 Axes>"
      ]
     },
     "metadata": {},
     "output_type": "display_data"
    },
    {
     "name": "stdout",
     "output_type": "stream",
     "text": [
      "[Epoch 117/200] [Batch 254/938] [D loss: 0.107895] [G loss: 0.666675]\n",
      "[[-0.9999903  -0.9998457  -0.9999016  ... -0.9999597  -0.99888724\n",
      "  -0.999987  ]\n",
      " [-0.9999783  -0.9997928  -0.9999842  ... -0.99997735 -0.9999825\n",
      "  -0.99995476]\n",
      " [-0.99989897 -0.99971753 -0.99994034 ... -0.999955   -0.9999544\n",
      "  -0.9999997 ]\n",
      " ...\n",
      " [-0.99998665 -0.99950844 -0.9999977  ... -0.9999327  -0.99981505\n",
      "  -0.9999986 ]\n",
      " [-0.99997586 -0.9999251  -0.9989742  ... -0.9995738  -0.9999987\n",
      "  -0.9998575 ]\n",
      " [-0.9993112  -0.9995603  -0.9999969  ... -0.9996812  -0.99984676\n",
      "  -0.9999836 ]]\n"
     ]
    },
    {
     "data": {
      "image/png": "[encoded data removed]",
      "text/plain": [
       "<Figure size 432x288 with 1 Axes>"
      ]
     },
     "metadata": {},
     "output_type": "display_data"
    },
    {
     "name": "stdout",
     "output_type": "stream",
     "text": [
      "[Epoch 127/200] [Batch 874/938] [D loss: 0.142614] [G loss: 0.434870]\n",
      "[[-0.9999064  -0.9999971  -0.9998986  ... -0.9999238  -0.99994844\n",
      "  -0.9999825 ]\n",
      " [-0.9999836  -0.99997044 -0.99999875 ... -0.9996994  -0.99839556\n",
      "  -0.99998325]\n",
      " [-0.9999923  -0.9977554  -0.99999624 ... -0.99991435 -0.99999636\n",
      "  -0.99999917]\n",
      " ...\n",
      " [-0.9999845  -0.9999864  -0.9999953  ... -0.9999876  -0.9998853\n",
      "  -0.99998015]\n",
      " [-0.99982405 -0.99999446 -0.9997896  ... -0.99962646 -0.9999443\n",
      "  -0.9998385 ]\n",
      " [-0.99963135 -0.99996966 -0.99998516 ... -0.9999991  -0.9999328\n",
      "  -0.99999833]]\n"
     ]
    },
    {
     "data": {
      "image/png": "[encoded data removed]",
      "text/plain": [
       "<Figure size 432x288 with 1 Axes>"
      ]
     },
     "metadata": {},
     "output_type": "display_data"
    },
    {
     "name": "stdout",
     "output_type": "stream",
     "text": [
      "[Epoch 138/200] [Batch 556/938] [D loss: 0.081576] [G loss: 0.814665]\n",
      "[[-0.99984115 -0.9996823  -0.9994826  ... -0.9997981  -0.9991828\n",
      "  -0.9999291 ]\n",
      " [-0.9995302  -0.99974936 -0.9997831  ... -0.9997605  -0.9999033\n",
      "  -0.99963725]\n",
      " [-0.9999558  -0.9995819  -0.9999644  ... -0.9997835  -0.9998123\n",
      "  -0.9999245 ]\n",
      " ...\n",
      " [-0.99993545 -0.99992496 -0.9998129  ... -0.99986523 -0.9997871\n",
      "  -0.9996499 ]\n",
      " [-0.99819714 -0.9997801  -0.9988114  ... -0.99984527 -0.9997228\n",
      "  -0.999836  ]\n",
      " [-0.9980349  -0.999903   -0.99988675 ... -0.99998873 -0.9998315\n",
      "  -0.9999603 ]]\n"
     ]
    },
    {
     "data": {
      "image/png": "[encoded data removed]",
      "text/plain": [
       "<Figure size 432x288 with 1 Axes>"
      ]
     },
     "metadata": {},
     "output_type": "display_data"
    },
    {
     "name": "stdout",
     "output_type": "stream",
     "text": [
      "[Epoch 149/200] [Batch 238/938] [D loss: 0.102659] [G loss: 0.521351]\n",
      "[[-0.99990267 -0.9999769  -0.99994016 ... -0.99986535 -0.99836844\n",
      "  -0.99992424]\n",
      " [-0.9999307  -0.9999543  -0.9999865  ... -0.9999836  -0.999939\n",
      "  -0.9998592 ]\n",
      " [-0.9999913  -0.9998513  -0.99982196 ... -0.9999512  -0.99992883\n",
      "  -0.9999901 ]\n",
      " ...\n",
      " [-0.9999173  -0.9986052  -0.99999696 ... -0.99872726 -0.99998015\n",
      "  -0.99999106]\n",
      " [-0.99179834 -0.9999822  -0.99952567 ... -0.99989414 -0.99974835\n",
      "  -0.99987763]\n",
      " [-0.99986947 -0.9990564  -0.9997262  ... -0.9999915  -0.9999895\n",
      "  -0.9996891 ]]\n"
     ]
    },
    {
     "data": {
      "image/png": "[encoded data removed]",
      "text/plain": [
       "<Figure size 432x288 with 1 Axes>"
      ]
     },
     "metadata": {},
     "output_type": "display_data"
    },
    {
     "name": "stdout",
     "output_type": "stream",
     "text": [
      "[Epoch 159/200] [Batch 858/938] [D loss: 0.074237] [G loss: 0.766936]\n",
      "[[-0.9998184  -0.9999226  -0.9998763  ... -0.99991804 -0.9968841\n",
      "  -0.9999686 ]\n",
      " [-0.9998807  -0.9999309  -0.99999803 ... -0.99998957 -0.9998479\n",
      "  -0.9999131 ]\n",
      " [-0.9999339  -0.9994691  -0.9997064  ... -0.9998231  -0.99961257\n",
      "  -0.99997866]\n",
      " ...\n",
      " [-0.99931836 -0.9957541  -0.9998849  ... -0.99839646 -0.99961764\n",
      "  -0.9999311 ]\n",
      " [-0.99428165 -0.99966204 -0.9998382  ... -0.99990994 -0.9993436\n",
      "  -0.9997425 ]\n",
      " [-0.99989897 -0.99961    -0.9989858  ... -0.9999584  -0.99971896\n",
      "  -0.9997559 ]]\n"
     ]
    },
    {
     "data": {
      "image/png": "[encoded data removed]",
      "text/plain": [
       "<Figure size 432x288 with 1 Axes>"
      ]
     },
     "metadata": {},
     "output_type": "display_data"
    },
    {
     "name": "stdout",
     "output_type": "stream",
     "text": [
      "[Epoch 170/200] [Batch 540/938] [D loss: 0.079759] [G loss: 0.893323]\n",
      "[[-0.9993931  -0.9997867  -0.9999898  ... -0.99997556 -0.99989575\n",
      "  -0.9999974 ]\n",
      " [-0.9997967  -0.9998069  -0.99997234 ... -0.9999713  -0.9997193\n",
      "  -0.9999836 ]\n",
      " [-0.99997926 -0.9990796  -0.99996907 ... -0.99994427 -0.99988616\n",
      "  -0.9999976 ]\n",
      " ...\n",
      " [-0.999974   -0.9999591  -0.9999365  ... -0.9999653  -0.9999624\n",
      "  -0.99994814]\n",
      " [-0.9993735  -0.99996716 -0.9998727  ... -0.9987184  -0.9993929\n",
      "  -0.9998841 ]\n",
      " [-0.99978656 -0.999979   -0.99997807 ... -0.99997646 -0.999999\n",
      "  -0.99998575]]\n"
     ]
    },
    {
     "data": {
      "image/png": "[encoded data removed]",
      "text/plain": [
       "<Figure size 432x288 with 1 Axes>"
      ]
     },
     "metadata": {},
     "output_type": "display_data"
    },
    {
     "name": "stdout",
     "output_type": "stream",
     "text": [
      "[Epoch 181/200] [Batch 222/938] [D loss: 0.208412] [G loss: 0.320063]\n",
      "[[-0.9999228  -0.9971372  -0.9999447  ... -0.9898285  -0.99985176\n",
      "  -0.99964553]\n",
      " [-0.99970883 -0.99994355 -0.99949825 ... -0.99997544 -0.9989774\n",
      "  -0.9999418 ]\n",
      " [-0.99981755 -0.99976057 -0.99909914 ... -0.99996024 -0.9999391\n",
      "  -0.99993074]\n",
      " ...\n",
      " [-0.99998355 -0.9939484  -0.99997866 ... -0.9999275  -0.9994626\n",
      "  -0.9999481 ]\n",
      " [-0.9999131  -0.9995448  -0.9964353  ... -0.9992297  -0.9997035\n",
      "  -0.99968034]\n",
      " [-0.99983275 -0.9998142  -0.99959654 ... -0.99999446 -0.9999528\n",
      "  -0.99268085]]\n"
     ]
    },
    {
     "data": {
      "image/png": "[encoded data removed]",
      "text/plain": [
       "<Figure size 432x288 with 1 Axes>"
      ]
     },
     "metadata": {},
     "output_type": "display_data"
    },
    {
     "name": "stdout",
     "output_type": "stream",
     "text": [
      "[Epoch 191/200] [Batch 842/938] [D loss: 0.087057] [G loss: 0.654227]\n",
      "[[-0.9997234  -0.99999857 -0.9999988  ... -0.99999285 -0.9999298\n",
      "  -0.9999977 ]\n",
      " [-0.99994665 -0.9999956  -0.99999994 ... -0.99999917 -0.9999529\n",
      "  -0.99999595]\n",
      " [-0.9999351  -0.9999646  -0.99999523 ... -0.9999981  -0.99996126\n",
      "  -0.9999957 ]\n",
      " ...\n",
      " [-0.9999996  -0.9999846  -0.99999964 ... -0.9999825  -0.99999577\n",
      "  -0.9999993 ]\n",
      " [-0.9998447  -0.99998987 -0.999986   ... -0.9999257  -0.99999917\n",
      "  -0.99983525]\n",
      " [-0.999976   -0.9999921  -0.99999946 ... -0.99999946 -0.9999998\n",
      "  -0.99999255]]\n"
     ]
    },
    {
     "data": {
      "image/png": "[encoded data removed]",
      "text/plain": [
       "<Figure size 432x288 with 1 Axes>"
      ]
     },
     "metadata": {},
     "output_type": "display_data"
    },
    {
     "ename": "KeyboardInterrupt",
     "evalue": "",
     "output_type": "error",
     "traceback": [
      "\u001b[1;31m---------------------------------------------------------------------------\u001b[0m",
      "\u001b[1;31mKeyboardInterrupt\u001b[0m                         Traceback (most recent call last)",
      "\u001b[1;32m<ipython-input-11-f150a64edee1>\u001b[0m in \u001b[0;36m<module>\u001b[1;34m()\u001b[0m\n\u001b[0;32m     51\u001b[0m         \u001b[0md_loss\u001b[0m \u001b[1;33m=\u001b[0m \u001b[1;33m(\u001b[0m\u001b[0md_real_loss\u001b[0m \u001b[1;33m+\u001b[0m \u001b[0md_fake_loss\u001b[0m\u001b[1;33m)\u001b[0m \u001b[1;33m/\u001b[0m \u001b[1;36m2\u001b[0m\u001b[1;33m\u001b[0m\u001b[0m\n\u001b[0;32m     52\u001b[0m \u001b[1;33m\u001b[0m\u001b[0m\n\u001b[1;32m---> 53\u001b[1;33m         \u001b[0md_loss\u001b[0m\u001b[1;33m.\u001b[0m\u001b[0mbackward\u001b[0m\u001b[1;33m(\u001b[0m\u001b[1;33m)\u001b[0m\u001b[1;33m\u001b[0m\u001b[0m\n\u001b[0m\u001b[0;32m     54\u001b[0m         \u001b[0moptimizer_D\u001b[0m\u001b[1;33m.\u001b[0m\u001b[0mstep\u001b[0m\u001b[1;33m(\u001b[0m\u001b[1;33m)\u001b[0m\u001b[1;33m\u001b[0m\u001b[0m\n\u001b[0;32m     55\u001b[0m \u001b[1;33m\u001b[0m\u001b[0m\n",
      "\u001b[1;32mc:\\program files\\python36\\lib\\site-packages\\torch\\tensor.py\u001b[0m in \u001b[0;36mbackward\u001b[1;34m(self, gradient, retain_graph, create_graph)\u001b[0m\n\u001b[0;32m     91\u001b[0m                 \u001b[0mproducts\u001b[0m\u001b[1;33m.\u001b[0m \u001b[0mDefaults\u001b[0m \u001b[0mto\u001b[0m\u001b[0;31m \u001b[0m\u001b[0;31m`\u001b[0m\u001b[0;31m`\u001b[0m\u001b[1;32mFalse\u001b[0m\u001b[0;31m`\u001b[0m\u001b[0;31m`\u001b[0m\u001b[1;33m.\u001b[0m\u001b[1;33m\u001b[0m\u001b[0m\n\u001b[0;32m     92\u001b[0m         \"\"\"\n\u001b[1;32m---> 93\u001b[1;33m         \u001b[0mtorch\u001b[0m\u001b[1;33m.\u001b[0m\u001b[0mautograd\u001b[0m\u001b[1;33m.\u001b[0m\u001b[0mbackward\u001b[0m\u001b[1;33m(\u001b[0m\u001b[0mself\u001b[0m\u001b[1;33m,\u001b[0m \u001b[0mgradient\u001b[0m\u001b[1;33m,\u001b[0m \u001b[0mretain_graph\u001b[0m\u001b[1;33m,\u001b[0m \u001b[0mcreate_graph\u001b[0m\u001b[1;33m)\u001b[0m\u001b[1;33m\u001b[0m\u001b[0m\n\u001b[0m\u001b[0;32m     94\u001b[0m \u001b[1;33m\u001b[0m\u001b[0m\n\u001b[0;32m     95\u001b[0m     \u001b[1;32mdef\u001b[0m \u001b[0mregister_hook\u001b[0m\u001b[1;33m(\u001b[0m\u001b[0mself\u001b[0m\u001b[1;33m,\u001b[0m \u001b[0mhook\u001b[0m\u001b[1;33m)\u001b[0m\u001b[1;33m:\u001b[0m\u001b[1;33m\u001b[0m\u001b[0m\n",
      "\u001b[1;32mc:\\program files\\python36\\lib\\site-packages\\torch\\autograd\\__init__.py\u001b[0m in \u001b[0;36mbackward\u001b[1;34m(tensors, grad_tensors, retain_graph, create_graph, grad_variables)\u001b[0m\n\u001b[0;32m     88\u001b[0m     Variable._execution_engine.run_backward(\n\u001b[0;32m     89\u001b[0m         \u001b[0mtensors\u001b[0m\u001b[1;33m,\u001b[0m \u001b[0mgrad_tensors\u001b[0m\u001b[1;33m,\u001b[0m \u001b[0mretain_graph\u001b[0m\u001b[1;33m,\u001b[0m \u001b[0mcreate_graph\u001b[0m\u001b[1;33m,\u001b[0m\u001b[1;33m\u001b[0m\u001b[0m\n\u001b[1;32m---> 90\u001b[1;33m         allow_unreachable=True)  # allow_unreachable flag\n\u001b[0m\u001b[0;32m     91\u001b[0m \u001b[1;33m\u001b[0m\u001b[0m\n\u001b[0;32m     92\u001b[0m \u001b[1;33m\u001b[0m\u001b[0m\n",
      "\u001b[1;31mKeyboardInterrupt\u001b[0m: "
     ]
    }
   ],
   "source": [
    "\n",
    "\n",
    "for epoch in range(n_epochs):\n",
    "    for i, (imgs, labels) in enumerate(dataloader):\n",
    "\n",
    "        batch_size = imgs.shape[0]\n",
    "\n",
    "        # Adversarial ground truths\n",
    "        valid = Variable(FloatTensor(batch_size, 1).fill_(1.0), requires_grad=False)\n",
    "        fake = Variable(FloatTensor(batch_size, 1).fill_(0.0), requires_grad=False)\n",
    "\n",
    "        # Configure input\n",
    "        real_imgs = Variable(imgs.type(FloatTensor))\n",
    "        labels = Variable(labels.type(LongTensor))\n",
    "\n",
    "        # -----------------\n",
    "        #  Train Generator\n",
    "        # -----------------\n",
    "\n",
    "        optimizer_G.zero_grad()\n",
    "\n",
    "        # Sample noise and labels as generator input\n",
    "        z = Variable(FloatTensor(np.random.normal(0, 1, (batch_size, latent_dim))))\n",
    "        gen_labels = Variable(LongTensor(np.random.randint(0, n_classes, batch_size)))\n",
    "\n",
    "        # Generate a batch of images\n",
    "        gen_imgs = generator(z, gen_labels)\n",
    "\n",
    "        # Loss measures generator's ability to fool the discriminator\n",
    "        validity = discriminator(gen_imgs, gen_labels)\n",
    "        g_loss = adversarial_loss(validity, valid)\n",
    "\n",
    "        g_loss.backward()\n",
    "        optimizer_G.step()\n",
    "\n",
    "        # ---------------------\n",
    "        #  Train Discriminator\n",
    "        # ---------------------\n",
    "\n",
    "        optimizer_D.zero_grad()\n",
    "\n",
    "        # Loss for real images\n",
    "        validity_real = discriminator(real_imgs, labels)\n",
    "        d_real_loss = adversarial_loss(validity_real, valid)\n",
    "\n",
    "        # Loss for fake images\n",
    "        validity_fake = discriminator(gen_imgs.detach(), gen_labels)\n",
    "        d_fake_loss = adversarial_loss(validity_fake, fake)\n",
    "\n",
    "        # Total discriminator loss\n",
    "        d_loss = (d_real_loss + d_fake_loss) / 2\n",
    "\n",
    "        d_loss.backward()\n",
    "        optimizer_D.step()\n",
    "\n",
    "        \n",
    "\n",
    "        batches_done = epoch * len(dataloader) + i\n",
    "        if batches_done % sample_interval == 0:\n",
    "            print (\"[Epoch %d/%d] [Batch %d/%d] [D loss: %f] [G loss: %f]\" % (epoch, n_epochs, i, len(dataloader),d_loss.item(), g_loss.item()))\n",
    "            torch.save(generator,\"models/generator\"+str(epoch)+\"_.pt\")\n",
    "            sample_image(n_row=10, batches_done=batches_done)\n",
    "            "
   ]
  },
  {
   "cell_type": "code",
   "execution_count": null,
   "metadata": {},
   "outputs": [],
   "source": []
  }
 ],
 "metadata": {
  "kernelspec": {
   "display_name": "Python 3",
   "language": "python",
   "name": "python3"
  },
  "language_info": {
   "codemirror_mode": {
    "name": "ipython",
    "version": 3
   },
   "file_extension": ".py",
   "mimetype": "text/x-python",
   "name": "python",
   "nbconvert_exporter": "python",
   "pygments_lexer": "ipython3",
   "version": "3.6.1"
  }
 },
 "nbformat": 4,
 "nbformat_minor": 2
}
